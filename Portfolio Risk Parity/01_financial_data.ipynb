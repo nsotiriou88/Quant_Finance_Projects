{
 "cells": [
  {
   "cell_type": "markdown",
   "id": "158717b9-91f6-4fd9-b556-a45ad57a0964",
   "metadata": {
    "slideshow": {
     "slide_type": "slide"
    }
   },
   "source": [
    "<img src=\"https://hilpisch.com/tpq_logo.png\" alt=\"The Python Quants\" width=\"35%\" align=\"right\" border=\"0\"><br>"
   ]
  },
  {
   "cell_type": "markdown",
   "id": "20f36126-47ca-4993-99b7-5d1e7359b754",
   "metadata": {},
   "source": [
    "# Risk Parity & Budgeting with Python"
   ]
  },
  {
   "cell_type": "markdown",
   "id": "cc344ce0-1069-4c8c-b354-215e91844069",
   "metadata": {},
   "source": [
    "### EOD Financial Data"
   ]
  },
  {
   "cell_type": "markdown",
   "id": "336e3c6b-9502-4b9c-87a7-a51efad295dd",
   "metadata": {},
   "source": [
    "&copy; Dr. Yves J. Hilpisch | The Python Quants GmbH\n",
    "\n",
    "http://tpq.io | [@dyjh](http://twitter.com/dyjh) | [team@tpq.io](mailto:team@tpq.io)"
   ]
  },
  {
   "cell_type": "markdown",
   "id": "1c049fe3",
   "metadata": {},
   "source": [
    "# EOD Historical Data"
   ]
  },
  {
   "cell_type": "markdown",
   "id": "7d77b612-8f72-4258-a87f-ba1f9bb44960",
   "metadata": {},
   "source": [
    "See [company page](https://eodhistoricaldata.com/r/?ref=X8R79ISB)."
   ]
  },
  {
   "cell_type": "markdown",
   "id": "ad1fe1e7",
   "metadata": {},
   "source": [
    "## Imports \n",
    "\n",
    "Installation of the `eod` package via\n",
    "\n",
    "    pip install eod"
   ]
  },
  {
   "cell_type": "code",
   "execution_count": null,
   "id": "bbc4144d",
   "metadata": {},
   "outputs": [],
   "source": [
    "import numpy as np\n",
    "import pandas as pd\n",
    "from eod import EodHistoricalData"
   ]
  },
  {
   "cell_type": "code",
   "execution_count": null,
   "id": "f74c5f51-da75-4da3-b879-6e001b683d37",
   "metadata": {},
   "outputs": [],
   "source": [
    "from pylab import plt\n",
    "plt.style.use('seaborn')\n",
    "%config InlineBackend.figure_format = 'svg'"
   ]
  },
  {
   "cell_type": "markdown",
   "id": "df164f2f",
   "metadata": {},
   "source": [
    "## API Connection"
   ]
  },
  {
   "cell_type": "code",
   "execution_count": null,
   "id": "1140932b",
   "metadata": {},
   "outputs": [],
   "source": [
    "%run ../creds.py"
   ]
  },
  {
   "cell_type": "code",
   "execution_count": null,
   "id": "a71a4b48",
   "metadata": {},
   "outputs": [],
   "source": [
    "api = EodHistoricalData(api_key)"
   ]
  },
  {
   "cell_type": "markdown",
   "id": "0b5feccc-93c8-4d66-9ffa-050ac88582ed",
   "metadata": {},
   "source": [
    "## Investment Universum"
   ]
  },
  {
   "cell_type": "code",
   "execution_count": null,
   "id": "1146eca4-7657-4f28-9fc1-e7cb9e44e0e0",
   "metadata": {},
   "outputs": [],
   "source": [
    "sym = [\n",
    "    'AAPL.US',     # Apple Inc. Stock\n",
    "    # 'AMZN.US',     # Amazon Inc. Stock\n",
    "    'GSPC.INDX',   # S&P 500 Index\n",
    "    'GC.COMM',     # Gold Price\n",
    "    'BTC-USD.CC'   # Bitcoin in USD\n",
    "]"
   ]
  },
  {
   "cell_type": "code",
   "execution_count": null,
   "id": "7c8cb34e-caea-432c-a3ca-7a209dfb3c93",
   "metadata": {},
   "outputs": [],
   "source": [
    "%%time\n",
    "raw = {}\n",
    "for s in sym:\n",
    "    prices = api.get_prices_eod(s, period='d', order='a')\n",
    "    price_df = pd.DataFrame.from_dict(prices).set_index('date')\n",
    "    raw[s] = price_df"
   ]
  },
  {
   "cell_type": "code",
   "execution_count": null,
   "id": "c1405062-92e4-4a73-925b-a1c496279dc9",
   "metadata": {},
   "outputs": [],
   "source": [
    "data = pd.DataFrame()\n",
    "for s in raw:\n",
    "    data[s] = raw[s]['adjusted_close']\n",
    "data.dropna(inplace=True)\n",
    "data.index = pd.DatetimeIndex(data.index)\n",
    "data = data.loc['2018-1-1':]"
   ]
  },
  {
   "cell_type": "code",
   "execution_count": null,
   "id": "c6487c52-6a0d-4371-a04f-c212eae744b0",
   "metadata": {},
   "outputs": [],
   "source": [
    "data.tail()"
   ]
  },
  {
   "cell_type": "code",
   "execution_count": null,
   "id": "9c9d1527-4a30-4732-b347-bcbe87296e44",
   "metadata": {},
   "outputs": [],
   "source": [
    "data.plot(subplots=True);"
   ]
  },
  {
   "cell_type": "code",
   "execution_count": null,
   "id": "b92bfeed-37bf-4132-aee5-f4be75722ed3",
   "metadata": {},
   "outputs": [],
   "source": [
    "(data / data.iloc[0]).plot();"
   ]
  },
  {
   "cell_type": "code",
   "execution_count": null,
   "id": "962efb82-2a2f-4070-96fd-1b8dc7edce86",
   "metadata": {},
   "outputs": [],
   "source": [
    "# data.to_csv('universe.csv')"
   ]
  },
  {
   "cell_type": "markdown",
   "id": "d4bb470b-829c-4312-b041-18f5e7703546",
   "metadata": {},
   "source": [
    "<img src=\"http://hilpisch.com/tpq_logo.png\" alt=\"The Python Quants\" width=\"30%\" align=\"right\" border=\"0\"><br>\n",
    "\n",
    "<a href=\"http://tpq.io\" target=\"_blank\">http://tpq.io</a> | <a href=\"http://twitter.com/dyjh\" target=\"_blank\">@dyjh</a> | <a href=\"mailto:team@tpq.io\">team@tpq.io</a>"
   ]
  }
 ],
 "metadata": {
  "kernelspec": {
   "display_name": "Python 3 (ipykernel)",
   "language": "python",
   "name": "python3"
  },
  "language_info": {
   "codemirror_mode": {
    "name": "ipython",
    "version": 3
   },
   "file_extension": ".py",
   "mimetype": "text/x-python",
   "name": "python",
   "nbconvert_exporter": "python",
   "pygments_lexer": "ipython3",
   "version": "3.8.13"
  }
 },
 "nbformat": 4,
 "nbformat_minor": 5
}
